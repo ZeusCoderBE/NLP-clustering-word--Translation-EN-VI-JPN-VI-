{
  "cells": [
    {
      "cell_type": "markdown",
      "metadata": {},
      "source": [
        "## 1. Import the necessary libraries"
      ]
    },
    {
      "cell_type": "code",
      "execution_count": 31,
      "metadata": {
        "colab": {
          "base_uri": "https://localhost:8080/"
        },
        "id": "ynsLjm6vGs1E",
        "outputId": "7f461a0e-e7a8-462c-b0a3-4a71cb7ce1cf"
      },
      "outputs": [],
      "source": [
        "from gensim.models import Word2Vec,KeyedVectors\n",
        "import numpy as np\n",
        "from tqdm import tqdm\n",
        "import pandas as pd\n",
        "from keras.utils import to_categorical\n",
        "import numpy as np\n",
        "from tensorflow.keras.utils import plot_model\n",
        "from pyvi import ViTokenizer\n",
        "import matplotlib.pyplot as plt\n",
        "import import_ipynb\n",
        "from EDASentimentAnalysis import remove_pucntuation,remove_stopword\n",
        "from sklearn.manifold import TSNE\n",
        "from keras.models import Sequential\n",
        "from keras.layers import Conv2D, MaxPooling2D, Dropout, Flatten, Dense\n",
        "from keras.models import load_model\n",
        "from sklearn.preprocessing import LabelEncoder\n",
        "from sklearn.metrics import accuracy_score, precision_score, recall_score, f1_score"
      ]
    },
    {
      "cell_type": "markdown",
      "metadata": {},
      "source": [
        "## 2 Data preprocessing"
      ]
    },
    {
      "cell_type": "markdown",
      "metadata": {},
      "source": [
        "> Read File CSV"
      ]
    },
    {
      "cell_type": "code",
      "execution_count": 32,
      "metadata": {
        "id": "oalbYOlIH8W6"
      },
      "outputs": [],
      "source": [
        "def ReadData(path):\n",
        "    df=pd.read_csv(path,encoding='utf-8')\n",
        "    return df['comment'], df['label']"
      ]
    },
    {
      "cell_type": "markdown",
      "metadata": {},
      "source": [
        "> Execute function"
      ]
    },
    {
      "cell_type": "code",
      "execution_count": 33,
      "metadata": {
        "id": "-B-aN4V8G5d6"
      },
      "outputs": [],
      "source": [
        "X_train,y_train = ReadData(\"../DataPhone/trainprocessed.csv\")\n",
        "X_test,y_test=ReadData(\"../DataPhone/testprocesssed.csv\")"
      ]
    },
    {
      "cell_type": "code",
      "execution_count": 34,
      "metadata": {},
      "outputs": [
        {
          "name": "stdout",
          "output_type": "stream",
          "text": [
            "X_Train size:(8898,)\n",
            "y_train size (8898,)\n"
          ]
        }
      ],
      "source": [
        "print(f\"X_Train size:{X_train.shape}\")\n",
        "print(f\"y_train size {y_train.shape}\")"
      ]
    },
    {
      "cell_type": "markdown",
      "metadata": {},
      "source": [
        "> word separation"
      ]
    },
    {
      "cell_type": "code",
      "execution_count": 35,
      "metadata": {},
      "outputs": [],
      "source": [
        "def wordseparation(comment):\n",
        "    return [review.split() for review in comment]"
      ]
    },
    {
      "cell_type": "code",
      "execution_count": 36,
      "metadata": {},
      "outputs": [
        {
          "name": "stdout",
          "output_type": "stream",
          "text": [
            "X_Train: [['pin', 'kém', 'còn', 'miễn', 'chê', 'mua', '832019', 'tình_trạng', 'pin', 'còn', '88', 'ai', 'giống', 'tôi'], ['sao', 'gọi', 'điện_thoại', 'màn_hình', 'chấm', 'nhỏ', 'nháy', 'gần', 'camera', 'vậylúc']]\n",
            "X_test: [['điện', 'thoải', 'ổn', 'facelock', 'cực', 'nhanh', 'vân', 'tay', 'ôk', 'màn_hình', 'lớn', 'pin', 'trâu', 'liên_quân', 'zalo', 'youtube', 'một', 'ngày', 'mất', 'khoảng', '45', 'tuy', 'chip', '439', 'mượt', 'đa_nhiệm', 'khá', 'ổn'], ['mình', 'mới', 'mua', 'vivo91c', 'tải', 'ứng_dụng', 'games', 'nhanh', 'hài_lòng', 'cài', 'hình', 'nền', 'khóa', 'màn_hình', 'hay', 'mình', 'biết', 'hết', 'chức_năng', 'nó', 'tư_vấn', 'viên', 'nhiệt_tình']]\n"
          ]
        }
      ],
      "source": [
        "X_train=wordseparation(X_train)\n",
        "X_test=wordseparation(X_test)\n",
        "print(f\"X_Train: {X_train[0:2]}\")\n",
        "print(f\"X_test: {X_test[0:2]}\")"
      ]
    },
    {
      "cell_type": "markdown",
      "metadata": {},
      "source": [
        "> word embedding"
      ]
    },
    {
      "cell_type": "code",
      "execution_count": 37,
      "metadata": {},
      "outputs": [],
      "source": [
        "model_wordembedding = Word2Vec(sentences=X_train, vector_size=128, window=5, min_count=0, workers=4, sg=1)\n",
        "model_wordembedding.wv.save(\"../model/word.model\")"
      ]
    },
    {
      "cell_type": "markdown",
      "metadata": {},
      "source": [
        "> Load Model_Word2Vec"
      ]
    },
    {
      "cell_type": "code",
      "execution_count": 38,
      "metadata": {},
      "outputs": [
        {
          "name": "stdout",
          "output_type": "stream",
          "text": [
            "Number of Words: 12613\n",
            "Vector: [ 0.16172853 -0.278568   -0.0461941   0.13844292  0.07370341 -0.11979046\n",
            " -0.11598067 -0.0347026  -0.14124215  0.2156179   0.07516915 -0.03504134\n",
            " -0.5774428   0.11728336 -0.0072672   0.13131368 -0.26372328 -0.17600691\n",
            " -0.22410437  0.24287802  0.08345135  0.11067151  0.20106915 -0.365353\n",
            " -0.38323814  0.19746275 -0.48308873  0.11515846  0.06535125 -0.24775797\n",
            " -0.1251122  -0.05466169  0.26828304  0.25344363 -0.21360612  0.02856587\n",
            "  0.46479604 -0.20313725  0.12600148  0.18823346  0.1342776   0.16426206\n",
            " -0.20075822  0.1992957   0.3443934   0.01582637 -0.3851738   0.1824306\n",
            " -0.10296895 -0.03500751  0.27597794  0.22070159  0.3395278   0.1717564\n",
            "  0.00218795  0.33917618  0.49149257 -0.22672209 -0.03544141 -0.08751876\n",
            " -0.11665499 -0.22265403  0.43613708  0.2893295   0.09791177 -0.01790611\n",
            "  0.05677631  0.28548917  0.03083311 -0.16634099  0.5746111  -0.24258524\n",
            " -0.04812232 -0.2669181  -0.09543618  0.16283126 -0.27741334 -0.16050151\n",
            " -0.341852    0.5053032  -0.31465572 -0.06221551  0.00257072  0.5277372\n",
            " -0.16175008  0.22576374  0.20912047 -0.03605904  0.24162777  0.5623471\n",
            " -0.05079965 -0.11889092  0.05789923 -0.02855934  0.5155234  -0.15350597\n",
            " -0.16363128 -0.22161107 -0.3409882  -0.5357423   0.1498189   0.08994392\n",
            " -0.20872307 -0.16090359 -0.0424151  -0.3069262   0.09086633  0.17535308\n",
            "  0.28452316  0.00260711  0.11973573 -0.4003783   0.10034734  0.07801652\n",
            " -0.13594852 -0.39150628 -0.057762   -0.02891987  0.07677472 -0.01237447\n",
            " -0.16810775 -0.43739256 -0.0790694   0.21603993 -0.32667693 -0.14500587\n",
            " -0.43401498 -0.05541169]\n"
          ]
        }
      ],
      "source": [
        "model_embedding = KeyedVectors.load('../model/word.model')\n",
        "num_words = len(model_embedding.index_to_key)\n",
        "print(\"Number of Words:\", num_words)\n",
        "print(\"Vector:\", model_embedding.get_vector('phần_mềm'))"
      ]
    },
    {
      "cell_type": "markdown",
      "metadata": {},
      "source": [
        "> Get a list of vector representations of words"
      ]
    },
    {
      "cell_type": "code",
      "execution_count": 39,
      "metadata": {},
      "outputs": [
        {
          "name": "stdout",
          "output_type": "stream",
          "text": [
            "[[86.61762  19.646923]\n",
            " [75.66911  34.727962]]\n"
          ]
        }
      ],
      "source": [
        "# Lấy danh sách các vectơ từ\n",
        "vectors = [model_embedding.get_vector(word) for word in model_embedding.index_to_key]\n",
        "vectors_array = np.array(vectors)\n",
        "# Giảm chiều dữ liệu từ 128 chiều xuống còn 2 chiều bằng t-SNE\n",
        "tsne = TSNE(n_components=2, random_state=42)\n",
        "vectors_2d = tsne.fit_transform(vectors_array)\n",
        "print(vectors_2d[0:2])"
      ]
    },
    {
      "cell_type": "markdown",
      "metadata": {},
      "source": [
        "> Visualize the context and semantic correlation of words"
      ]
    },
    {
      "cell_type": "code",
      "execution_count": 40,
      "metadata": {},
      "outputs": [
        {
          "data": {
            "image/png": "[encoded data removed]",
            "text/plain": [
              "<Figure size 1000x1000 with 1 Axes>"
            ]
          },
          "metadata": {},
          "output_type": "display_data"
        }
      ],
      "source": [
        "# Trực quan hóa các vectơ từ\n",
        "plt.figure(figsize=(10, 10))\n",
        "num_words = 30\n",
        "# Màu cho mỗi từ\n",
        "colors = plt.cm.rainbow(np.linspace(0, 1, num_words))\n",
        "\n",
        "# Vẽ các điểm dữ liệu (từ) với màu khác nhau\n",
        "for i, word in enumerate(model_embedding.index_to_key[:num_words]):  \n",
        "    plt.scatter(vectors_2d[i, 0], vectors_2d[i, 1], marker='o', color=colors[i], alpha=0.6)\n",
        "    plt.annotate(word, xy=(vectors_2d[i, 0], vectors_2d[i, 1]), fontsize=10, color=colors[i])\n",
        "\n",
        "plt.xlabel('t-SNE Component 1')\n",
        "plt.ylabel('t-SNE Component 2')\n",
        "plt.title('t-SNE Visualization of Word Embeddings (First 30 Words)')\n",
        "plt.grid(True)\n",
        "plt.show()\n"
      ]
    },
    {
      "cell_type": "markdown",
      "metadata": {},
      "source": [
        "> Corpus"
      ]
    },
    {
      "cell_type": "code",
      "execution_count": 41,
      "metadata": {},
      "outputs": [
        {
          "data": {
            "text/plain": [
              "{'máy': 0,\n",
              " 'mua': 1,\n",
              " 'pin': 2,\n",
              " 'mình': 3,\n",
              " 'dùng': 4,\n",
              " 'mới': 5,\n",
              " 'game': 6,\n",
              " 'tốt': 7,\n",
              " 'chơi': 8,\n",
              " 'ko': 9,\n",
              " 'quá': 10,\n",
              " 'ok': 11,\n",
              " '1': 12,\n",
              " 'đẹp': 13,\n",
              " 'giá': 14,\n",
              " 'mượt': 15,\n",
              " 'nhanh': 16,\n",
              " 'sạc': 17,\n",
              " 'ngày': 18,\n",
              " 'ổn': 19,\n",
              " 'thấy': 20,\n",
              " 'chụp': 21,\n",
              " 'camera': 22,\n",
              " 'còn': 23,\n",
              " 'xài': 24,\n",
              " 'tầm': 25,\n",
              " 'hơn': 26,\n",
              " 'về': 27,\n",
              " 'k': 28,\n",
              " 'màn_hình': 29,\n",
              " 'trâu': 30,\n",
              " 'trong': 31,\n",
              " 'đc': 32,\n",
              " 'hơi': 33,\n",
              " '2': 34,\n",
              " 'sản_phẩm': 35,\n",
              " 'lỗi': 36,\n",
              " 'khá': 37,\n",
              " 'tháng': 38,\n",
              " 'tay': 39,\n",
              " 'sao': 40,\n",
              " 'nhân_viên': 41,\n",
              " 'hay': 42,\n",
              " 'con': 43,\n",
              " 'mọi': 44,\n",
              " 'sử_dụng': 45,\n",
              " 'hình': 46,\n",
              " 'sài': 47,\n",
              " 'hết': 48,\n",
              " 'ngon': 49,\n",
              " 'nói_chung': 50,\n",
              " 'nóng': 51,\n",
              " 'vân': 52,\n",
              " 'nhiệt_tình': 53,\n",
              " 'thứ': 54,\n",
              " 'lắm': 55,\n",
              " '3': 56,\n",
              " 'nghe': 57,\n",
              " 'nó': 58,\n",
              " 'luôn': 59,\n",
              " 'loa': 60,\n",
              " 'điện_thoại': 61,\n",
              " 'lag': 62,\n",
              " 'khác': 63,\n",
              " 'ảnh': 64,\n",
              " 'wifi': 65,\n",
              " 'tệ': 66,\n",
              " 'người': 67,\n",
              " 'xem': 68,\n",
              " 'biết': 69,\n",
              " 'mấy': 70,\n",
              " 'nào': 71,\n",
              " 'ở': 72,\n",
              " 'cấu_hình': 73,\n",
              " 'lần': 74,\n",
              " 'dc': 75,\n",
              " 'bạn': 76,\n",
              " 'đổi': 77,\n",
              " 'nói': 78,\n",
              " 'hàng': 79,\n",
              " 'cả': 80,\n",
              " 'sáng': 81,\n",
              " 'tôi': 82,\n",
              " 'đến': 83,\n",
              " 'tuần': 84,\n",
              " 'đt': 85,\n",
              " 'tụt': 86,\n",
              " 'đơ': 87,\n",
              " 'em': 88,\n",
              " 'chạy': 89,\n",
              " '5': 90,\n",
              " 'cảm_ứng': 91,\n",
              " 'lâu': 92,\n",
              " 'kém': 93,\n",
              " 'tgdd': 94,\n",
              " 'giật': 95,\n",
              " 'tiền': 96,\n",
              " 'hài_lòng': 97,\n",
              " 'thất_vọng': 98,\n",
              " 'nhạy': 99,\n",
              " 'tuyệt_vời': 100,\n",
              " 'bắt': 101,\n",
              " 'thôi': 102,\n",
              " 'ạ': 103,\n",
              " 'đi': 104,\n",
              " 'gần': 105,\n",
              " 'thích': 106,\n",
              " 'thiết_kế': 107,\n",
              " 'gọi': 108,\n",
              " 'tạm': 109,\n",
              " 'mở': 110,\n",
              " 'lướt': 111,\n",
              " 'sóng': 112,\n",
              " 'tư_vấn': 113,\n",
              " 'yếu': 114,\n",
              " 'cam': 115,\n",
              " 'ai': 116,\n",
              " 'cao': 117,\n",
              " 'liên_quân': 118,\n",
              " 'hôm': 119,\n",
              " 'nhất': 120,\n",
              " 'một': 121,\n",
              " 'nét': 122,\n",
              " 'samsung': 123,\n",
              " 'thật': 124,\n",
              " '4': 125,\n",
              " 'tắt': 126,\n",
              " 'chê': 127,\n",
              " 'làm': 128,\n",
              " 'tiếng': 129,\n",
              " 'mất': 130,\n",
              " 'mạng': 131,\n",
              " 'ứng_dụng': 132,\n",
              " 'chậm': 133,\n",
              " 'to': 134,\n",
              " 'giờ': 135,\n",
              " 'chán': 136,\n",
              " '10': 137,\n",
              " 'đánh_giá': 138,\n",
              " 'đáng': 139,\n",
              " 'chất_lượng': 140,\n",
              " 'phục_vụ': 141,\n",
              " 'đầy': 142,\n",
              " 'cực': 143,\n",
              " 'dòng': 144,\n",
              " 'cập_nhật': 145,\n",
              " 'màu': 146,\n",
              " 'mạnh': 147,\n",
              " 'bằng': 148,\n",
              " 'oppo': 149,\n",
              " 'e': 150,\n",
              " 'muốn': 151,\n",
              " 'đầu': 152,\n",
              " 'cảm_thấy': 153,\n",
              " 'ngoài': 154,\n",
              " 'tuột': 155,\n",
              " '4g': 156,\n",
              " 'tới': 157,\n",
              " 'nghiệm': 158,\n",
              " 'thể': 159,\n",
              " 'vs': 160,\n",
              " 'bật': 161,\n",
              " 'bình_thường': 162,\n",
              " 'iphone': 163,\n",
              " 'trải': 164,\n",
              " 'nhận': 165,\n",
              " 'rõ': 166,\n",
              " 'khỏi': 167,\n",
              " 'thêm': 168,\n",
              " 'ổn_định': 169,\n",
              " 'độ': 170,\n",
              " 'youtube': 171,\n",
              " 'mức': 172,\n",
              " 'nhỏ': 173,\n",
              " 'thua': 174,\n",
              " 'cầm': 175,\n",
              " 'nhìn': 176,\n",
              " 'pubg': 177,\n",
              " 'chip': 178,\n",
              " 'nhạc': 179,\n",
              " 'đâu': 180,\n",
              " 'hỏi': 181,\n",
              " 'tối': 182,\n",
              " 'đủ': 183,\n",
              " 'bên': 184,\n",
              " 'khoảng': 185,\n",
              " 'note': 186,\n",
              " 'vài': 187,\n",
              " 'phim': 188,\n",
              " 'hãng': 189,\n",
              " 'mong': 190,\n",
              " 'siêu': 191,\n",
              " 'video': 192,\n",
              " 'dù': 193,\n",
              " 'cảm_biến': 194,\n",
              " 'nguồn': 195,\n",
              " 'tự': 196,\n",
              " 'nhẹ': 197,\n",
              " 'tuyệt': 198,\n",
              " 'ít': 199,\n",
              " 'bảo_hành': 200,\n",
              " 'đêm': 201,\n",
              " 'điểm': 202,\n",
              " 'sp': 203,\n",
              " 'nhé': 204,\n",
              " 'đúng': 205,\n",
              " 'lấy': 206,\n",
              " 'xuống': 207,\n",
              " 'tất_cả': 208,\n",
              " 'năm': 209,\n",
              " 'bản': 210,\n",
              " 'nay': 211,\n",
              " 'xong': 212,\n",
              " 'ủng_hộ': 213,\n",
              " 'việt': 214,\n",
              " 'fb': 215,\n",
              " 'thời_gian': 216,\n",
              " 'zalo': 217,\n",
              " 'mờ': 218,\n",
              " 'cách': 219,\n",
              " 'rẻ': 220,\n",
              " 'mặt': 221,\n",
              " 'xiaomi': 222,\n",
              " 'vụ': 223,\n",
              " '7': 224,\n",
              " 'liên_tục': 225,\n",
              " 'lưng': 226,\n",
              " 'xấu': 227,\n",
              " 'web': 228,\n",
              " 'nha': 229,\n",
              " 'phần': 230,\n",
              " 'bán': 231,\n",
              " '8': 232,\n",
              " 'ram': 233,\n",
              " 'số': 234,\n",
              " 'bỏ': 235,\n",
              " 'chắc': 236,\n",
              " 'hiệu_năng': 237,\n",
              " 'mặc_dù': 238,\n",
              " 'sắc': 239,\n",
              " 'thử': 240,\n",
              " 'cảm_nhận': 241,\n",
              " 'triệu': 242,\n",
              " 'chế_độ': 243,\n",
              " 'khuôn_mặt': 244,\n",
              " 'chiến': 245,\n",
              " 'sang': 246,\n",
              " 'nặng': 247,\n",
              " 'thế': 248,\n",
              " '100': 249,\n",
              " 'dt': 250,\n",
              " 'vô': 251,\n",
              " 'báo': 252,\n",
              " 'hỗ_trợ': 253,\n",
              " 'lớn': 254,\n",
              " 'tác': 255,\n",
              " 'chung': 256,\n",
              " 'dễ': 257,\n",
              " 'bao': 258,\n",
              " 'hao': 259,\n",
              " 'khắc_phục': 260,\n",
              " 'mau': 261,\n",
              " 'tgdđ': 262,\n",
              " '20': 263,\n",
              " 'nhà': 264,\n",
              " 'hiện': 265,\n",
              " 'lâu_lâu': 266,\n",
              " 'khởi_động': 267,\n",
              " 'xanh': 268,\n",
              " 'max': 269,\n",
              " 'vsmart': 270,\n",
              " 'trừ': 271,\n",
              " 'bấm': 272,\n",
              " 'màn': 273,\n",
              " 'quảng_cáo': 274,\n",
              " 'sim': 275,\n",
              " 'giảm': 276,\n",
              " 'đem': 277,\n",
              " 'khuyên': 278,\n",
              " 'hiểu': 279,\n",
              " 'quay': 280,\n",
              " 'j': 281,\n",
              " 'đừng': 282,\n",
              " 'phần_mềm': 283,\n",
              " 'hoặc': 284,\n",
              " 'trung': 285,\n",
              " 'di_động': 286,\n",
              " 'r': 287,\n",
              " 'âm_thanh': 288,\n",
              " 'tai_nghe': 289,\n",
              " 'vấn_đề': 290,\n",
              " 'đứng': 291,\n",
              " 'tí': 292,\n",
              " 'vivo': 293,\n",
              " 'pro': 294,\n",
              " 'bảo': 295,\n",
              " 'cũ': 296,\n",
              " 'nv': 297,\n",
              " '6': 298,\n",
              " 'bin': 299,\n",
              " 'kiểu': 300,\n",
              " 'ốp': 301,\n",
              " 'trả': 302,\n",
              " 'thế_giới': 303,\n",
              " 'nhận_diện': 304,\n",
              " 'oke': 305,\n",
              " 'nhu_cầu': 306,\n",
              " 'phân': 307,\n",
              " 'khóa': 308,\n",
              " 'ss': 309,\n",
              " 'chút': 310,\n",
              " 'hình_ảnh': 311,\n",
              " 'kết_nối': 312,\n",
              " 'phù_hợp': 313,\n",
              " 'khúc': 314,\n",
              " 'tiếc': 315,\n",
              " 'thấp': 316,\n",
              " 'tải': 317,\n",
              " 'chức_năng': 318,\n",
              " 'tội': 319,\n",
              " 'tin': 320,\n",
              " 'nam': 321,\n",
              " 'đôi': 322,\n",
              " 'đặc_biệt': 323,\n",
              " 'redmi': 324,\n",
              " 'mang': 325,\n",
              " 'chọn': 326,\n",
              " 'chu_đáo': 327,\n",
              " 'hối_hận': 328,\n",
              " 'cảm_giác': 329,\n",
              " 'khó_chịu': 330,\n",
              " 'bàn': 331,\n",
              " 'tui': 332,\n",
              " 'hd': 333,\n",
              " 'tặng': 334,\n",
              " 'tính_năng': 335,\n",
              " 'mn': 336,\n",
              " 'buồn': 337,\n",
              " 'rè': 338,\n",
              " 'android': 339,\n",
              " 'đồng_tiền': 340,\n",
              " 'nhảy': 341,\n",
              " 'tuy_nhiên': 342,\n",
              " 'cảm_ơn': 343,\n",
              " 'đen': 344,\n",
              " 'cực_kì': 345,\n",
              " 'sd': 346,\n",
              " 'thế_nào': 347,\n",
              " 'bền': 348,\n",
              " 'mk': 349,\n",
              " 'hiện_tượng': 350,\n",
              " 'giống': 351,\n",
              " 'vui_vẻ': 352,\n",
              " 'đọc': 353,\n",
              " 'sai': 354,\n",
              " 'cài': 355,\n",
              " 'tuy': 356,\n",
              " 'facebook': 357,\n",
              " 'phút': 358,\n",
              " 'dán': 359,\n",
              " 'xa': 360,\n",
              " 'màng': 361,\n",
              " 'cuộc_gọi': 362,\n",
              " 'dung_lượng': 363,\n",
              " 'sang_trọng': 364,\n",
              " 'viên': 365,\n",
              " 'chấp_nhận': 366,\n",
              " 'hai': 367,\n",
              " 'full': 368,\n",
              " 'chính': 369,\n",
              " 'khó': 370,\n",
              " 'hồi': 371,\n",
              " 'ae': 372,\n",
              " 'đòi_hỏi': 373,\n",
              " 'loạn': 374,\n",
              " 'tình_trạng': 375,\n",
              " 'coi': 376,\n",
              " 'chả': 377,\n",
              " 'đa_nhiệm': 378,\n",
              " 'a70': 379,\n",
              " 'êm': 380,\n",
              " 'chuyển': 381,\n",
              " 'hiển_thị': 382,\n",
              " 'ảo': 383,\n",
              " 'toàn': 384,\n",
              " 'khỏe': 385,\n",
              " 'test': 386,\n",
              " 'a51': 387,\n",
              " 'realme': 388,\n",
              " 'ưng': 389,\n",
              " 'ấm': 390,\n",
              " 'nghĩ': 391,\n",
              " 'ý': 392,\n",
              " 'điện_máy': 393,\n",
              " 'nút': 394,\n",
              " 'kêu': 395,\n",
              " 'khách_hàng': 396,\n",
              " 'plus': 397,\n",
              " 'cửa_hàng': 398,\n",
              " 'sam': 399,\n",
              " '3g': 400,\n",
              " 'cơ_bản': 401,\n",
              " 'v': 402,\n",
              " 'lq': 403,\n",
              " 'kính': 404,\n",
              " 'hôm_nay': 405,\n",
              " '15': 406,\n",
              " 'rất': 407,\n",
              " 'tự_động': 408,\n",
              " 'nổi': 409,\n",
              " 'viền': 410,\n",
              " 'chỉnh': 411,\n",
              " 'thì': 412,\n",
              " 'thoải_mái': 413,\n",
              " 'kinh_khủng': 414,\n",
              " 'mắt': 415,\n",
              " 'kia': 416,\n",
              " 'app': 417,\n",
              " 'fps': 418,\n",
              " 'chíp': 419,\n",
              " '30': 420,\n",
              " 'dễ_thương': 421,\n",
              " 'h': 422,\n",
              " 'chờ': 423,\n",
              " '11': 424,\n",
              " 'treo': 425,\n",
              " 'bác': 426,\n",
              " 'thường': 427,\n",
              " 'phím': 428,\n",
              " 'đầu_tiên': 429,\n",
              " 'cục': 430,\n",
              " 'xíu': 431,\n",
              " 'khoẻ': 432,\n",
              " 'xin': 433,\n",
              " 'riêng': 434,\n",
              " 'chữ': 435,\n",
              " 'thân_thiện': 436,\n",
              " 'ưng_ý': 437,\n",
              " 'gặp': 438,\n",
              " 'ip': 439,\n",
              " 'chạm': 440,\n",
              " 'được': 441,\n",
              " 'chỗ': 442,\n",
              " 'hợp_lý': 443,\n",
              " 'thỉnh_thoảng': 444,\n",
              " 'bàn_phím': 445,\n",
              " 'rung': 446,\n",
              " 'sung': 447,\n",
              " '9': 448,\n",
              " 'bây_giờ': 449,\n",
              " 'nhỉ': 450,\n",
              " 'cắm': 451,\n",
              " 'tóm': 452,\n",
              " 'chịu': 453,\n",
              " 'kiểm_tra': 454,\n",
              " 'nửa': 455,\n",
              " 'nokia': 456,\n",
              " 'thi': 457,\n",
              " 'thực': 458,\n",
              " 'ăn': 459,\n",
              " 'xạc': 460,\n",
              " 'chị': 461,\n",
              " '12': 462,\n",
              " 'chiều': 463,\n",
              " 'đấy': 464,\n",
              " 'củ': 465,\n",
              " 'may': 466,\n",
              " 'thiếu': 467,\n",
              " 'điện': 468,\n",
              " '5000': 469,\n",
              " 'huawei': 470,\n",
              " 'trung_bình': 471,\n",
              " 'sai_lầm': 472,\n",
              " 'thoát': 473,\n",
              " 'face': 474,\n",
              " 'ms': 475,\n",
              " 'đối': 476,\n",
              " 'gửi': 477,\n",
              " 'bộ_nhớ': 478,\n",
              " 'nhựa': 479,\n",
              " 'minh': 480,\n",
              " 'google': 481,\n",
              " 'thao_tác': 482,\n",
              " 'giúp': 483,\n",
              " 'trận': 484,\n",
              " 'màu_sắc': 485,\n",
              " 'thay': 486,\n",
              " 'sớm': 487,\n",
              " 'ng': 488,\n",
              " 'lo': 489,\n",
              " 'bluetooth': 490,\n",
              " 'gọn': 491,\n",
              " 'xứng_đáng': 492,\n",
              " 'tự_nhiên': 493,\n",
              " 'ấy': 494,\n",
              " 'chuẩn': 495,\n",
              " 'tận_tình': 496,\n",
              " 'loại': 497,\n",
              " 'sợ': 498,\n",
              " 'nhìu': 499,\n",
              " 'phát': 500,\n",
              " 's': 501,\n",
              " 'chẳng': 502,\n",
              " 'cài_đặt': 503,\n",
              " 'góc': 504,\n",
              " 'lồi': 505,\n",
              " 'thoại': 506,\n",
              " 'lun': 507,\n",
              " 'vàng': 508,\n",
              " 'nước': 509,\n",
              " 'chống': 510,\n",
              " 'hẳn': 511,\n",
              " 'call': 512,\n",
              " 'hợp': 513,\n",
              " 'ad': 514,\n",
              " 'kèm': 515,\n",
              " 'bt': 516,\n",
              " 'bao_giờ': 517,\n",
              " 'nhiệt': 518,\n",
              " 'mong_đợi': 519,\n",
              " 'đợi': 520,\n",
              " 'tiếp': 521,\n",
              " 'trâu_bò': 522,\n",
              " 'định': 523,\n",
              " 'nhận_xét': 524,\n",
              " 'nhược_điểm': 525,\n",
              " 'rộng': 526,\n",
              " '4000': 527,\n",
              " 'dung': 528,\n",
              " 'cx': 529,\n",
              " 'à': 530,\n",
              " 'làm_sao': 531,\n",
              " 'trắng': 532,\n",
              " 'anh': 533,\n",
              " 'trc': 534,\n",
              " 'hoạt_động': 535,\n",
              " 'mỏng': 536,\n",
              " 'sướng': 537,\n",
              " 'văng': 538,\n",
              " 'hề': 539,\n",
              " 'là': 540,\n",
              " 'hành': 541,\n",
              " 'hoài': 542,\n",
              " 'phí': 543,\n",
              " '9s': 544,\n",
              " 'phân_giải': 545,\n",
              " 'đánh': 546,\n",
              " 'tốn': 547,\n",
              " 'kg': 548,\n",
              " 'thương_hiệu': 549,\n",
              " 'vạch': 550,\n",
              " 'đặt': 551,\n",
              " 'cực_kỳ': 552,\n",
              " 'a': 553,\n",
              " 'phẩm': 554,\n",
              " 'kh': 555,\n",
              " 'khoá': 556,\n",
              " 'túi_tiền': 557,\n",
              " 'nguyên': 558,\n",
              " 'thường_xuyên': 559,\n",
              " 'tương_đối': 560,\n",
              " 'chi': 561,\n",
              " 'free': 562,\n",
              " 'tính': 563,\n",
              " 'tốc_độ': 564,\n",
              " 'lâu_dài': 565,\n",
              " '23': 566,\n",
              " 'nhắn': 567,\n",
              " 'xử_lý': 568,\n",
              " 'đmx': 569,\n",
              " 'cân_nhắc': 570,\n",
              " 'ứng': 571,\n",
              " 'chập_chờn': 572,\n",
              " 'bù': 573,\n",
              " 'ông': 574,\n",
              " 'giá_cả': 575,\n",
              " 'củng': 576,\n",
              " 'mik': 577,\n",
              " 'phản_hồi': 578,\n",
              " 'a71': 579,\n",
              " 'bé': 580,\n",
              " 'tiết_kiệm': 581,\n",
              " 'anh_em': 582,\n",
              " 'khủng': 583,\n",
              " 'fire': 584,\n",
              " 'ios': 585,\n",
              " 'hư': 586,\n",
              " 'phiên_bản': 587,\n",
              " 'cải_thiện': 588,\n",
              " 'mãi': 589,\n",
              " 'nhìn_chung': 590,\n",
              " 'trang': 591,\n",
              " 'giao': 592,\n",
              " 'lựa_chọn': 593,\n",
              " 'chs': 594,\n",
              " 'tâm': 595,\n",
              " 'shop': 596,\n",
              " 'galaxy': 597,\n",
              " 'ấn': 598,\n",
              " 'phê': 599,\n",
              " 'thu': 600,\n",
              " 'choi': 601,\n",
              " 'nhắn_tin': 602,\n",
              " 'sản_xuất': 603,\n",
              " 'giảm_giá': 604,\n",
              " 'dk': 605,\n",
              " 'đời': 606,\n",
              " 'có': 607,\n",
              " 'đồ_họa': 608,\n",
              " 'm': 609,\n",
              " 'chuông': 610,\n",
              " 'sửa': 611,\n",
              " 'tai': 612,\n",
              " 'sử': 613,\n",
              " 'ý_định': 614,\n",
              " 'bộ': 615,\n",
              " 'rớt': 616,\n",
              " 'ngang': 617,\n",
              " 'reno': 618,\n",
              " 'cường_lực': 619,\n",
              " 'đk': 620,\n",
              " 'nản': 621,\n",
              " 'đáp_ứng': 622,\n",
              " 'hộp': 623,\n",
              " 'nâng_cấp': 624,\n",
              " 'bảo_mật': 625,\n",
              " 'setting': 626,\n",
              " 'bát': 627,\n",
              " 'rưỡi': 628,\n",
              " 'lắc': 629,\n",
              " 'miui': 630,\n",
              " 'ghê': 631,\n",
              " 'thái_độ': 632,\n",
              " 'la': 633,\n",
              " 'trời': 634,\n",
              " 'j7': 635,\n",
              " 'tối_ưu': 636,\n",
              " 'ám': 637,\n",
              " 'a50s': 638,\n",
              " 'xoá': 639,\n",
              " 'tận': 640,\n",
              " 'hệ': 641,\n",
              " 'vỡ': 642,\n",
              " 'sánh': 643,\n",
              " 'máy_ảnh': 644,\n",
              " 'công': 645,\n",
              " 'lời': 646,\n",
              " 'ba': 647,\n",
              " 'giao_diện': 648,\n",
              " 'ưu_điểm': 649,\n",
              " 'một_số': 650,\n",
              " 'yên_tâm': 651,\n",
              " 'lưu': 652,\n",
              " 'cùi': 653,\n",
              " 'gạo': 654,\n",
              " 'hoi': 655,\n",
              " 'giới_thiệu': 656,\n",
              " 'dmx': 657,\n",
              " 'mà': 658,\n",
              " 'bực_mình': 659,\n",
              " 'quay_phim': 660,\n",
              " 'chai': 661,\n",
              " 'chất': 662,\n",
              " 'ơi': 663,\n",
              " 'trả_góp': 664,\n",
              " 'bình': 665,\n",
              " 'sống': 666,\n",
              " 'good': 667,\n",
              " 'fan': 668,\n",
              " 'mát': 669,\n",
              " 'update': 670,\n",
              " 'lung_tung': 671,\n",
              " 'live': 672,\n",
              " 'mẹ': 673,\n",
              " 'bình_luận': 674,\n",
              " 'dài': 675,\n",
              " 'xịn': 676,\n",
              " 'ntn': 677,\n",
              " 'dành': 678,\n",
              " 'ngon_lành': 679,\n",
              " 'âm': 680,\n",
              " 'trở': 681,\n",
              " 'wed': 682,\n",
              " 'yêu': 683,\n",
              " 'thui': 684,\n",
              " 'đồ': 685,\n",
              " 'quần': 686,\n",
              " 'a50': 687,\n",
              " 'mẫu_mã': 688,\n",
              " 'giải_trí': 689,\n",
              " 'nền': 690,\n",
              " 'và': 691,\n",
              " 'joy': 692,\n",
              " 'hoàn_hảo': 693,\n",
              " 'chủ_yếu': 694,\n",
              " 'thông_báo': 695,\n",
              " 'nhau': 696,\n",
              " 'hãy': 697,\n",
              " 'cao_cấp': 698,\n",
              " 'ngầm': 699,\n",
              " 'mic': 700,\n",
              " 'vuốt': 701,\n",
              " 'snap': 702,\n",
              " 'hở': 703,\n",
              " 'khoản': 704,\n",
              " 'mobile': 705,\n",
              " 'tý': 706,\n",
              " 'lite': 707,\n",
              " 'đồng': 708,\n",
              " 'đường': 709,\n",
              " 'f11': 710,\n",
              " 'này': 711,\n",
              " 'ban_đầu': 712,\n",
              " 'nhập': 713,\n",
              " 'á': 714,\n",
              " 'wf': 715,\n",
              " 'dịch_vụ': 716,\n",
              " 'cũng': 717,\n",
              " 'cuối': 718,\n",
              " 'lỗ': 719,\n",
              " 'chấm': 720,\n",
              " 'ý_kiến': 721,\n",
              " 'phụ': 722,\n",
              " 'thanh': 723,\n",
              " 't': 724,\n",
              " 'đỉnh': 725,\n",
              " 'với': 726,\n",
              " 'ngoại_trừ': 727,\n",
              " 'wa': 728,\n",
              " 'vui': 729,\n",
              " 'out': 730,\n",
              " 'sụt': 731,\n",
              " 'đắt': 732,\n",
              " 'tìm': 733,\n",
              " '40': 734,\n",
              " 'hk': 735,\n",
              " 'năng': 736,\n",
              " 'kỹ': 737,\n",
              " 'tưởng': 738,\n",
              " 'nhấn': 739,\n",
              " '3tr': 740,\n",
              " 'vọng': 741,\n",
              " 'online': 742,\n",
              " 'xuất_sắc': 743,\n",
              " 'đập': 744,\n",
              " 'nhân': 745,\n",
              " 'xóa_phông': 746,\n",
              " 'chắc_chắn': 747,\n",
              " 'vn': 748,\n",
              " 'chục': 749,\n",
              " 'ánh_sáng': 750,\n",
              " '6tr': 751,\n",
              " 'kiểu_dáng': 752,\n",
              " 'sac': 753,\n",
              " 'moi': 754,\n",
              " 'giữ': 755,\n",
              " 'khả_năng': 756,\n",
              " 'selfie': 757,\n",
              " 'buổi': 758,\n",
              " '1h': 759,\n",
              " '50': 760,\n",
              " 'ức_chế': 761,\n",
              " 'hỏng': 762,\n",
              " 'miếng': 763,\n",
              " 'đợt': 764,\n",
              " 'co': 765,\n",
              " 'thích_hợp': 766,\n",
              " 'vãi': 767,\n",
              " 'công_nghệ': 768,\n",
              " 'sập': 769,\n",
              " 'sản': 770,\n",
              " '8tr': 771,\n",
              " 'lẽ': 772,\n",
              " 'lác': 773,\n",
              " 'load': 774,\n",
              " '4tr': 775,\n",
              " '4500': 776,\n",
              " '2h': 777,\n",
              " 'rùi': 778,\n",
              " 'rút': 779,\n",
              " '7plus': 780,\n",
              " 'sạt': 781,\n",
              " 'rơi': 782,\n",
              " 'bực': 783,\n",
              " 'tiếp_tục': 784,\n",
              " 'ngón': 785,\n",
              " 'trợ': 786,\n",
              " 'bất_tiện': 787,\n",
              " 'đèn': 788,\n",
              " 'bổ': 789,\n",
              " 'xước': 790,\n",
              " 'che': 791,\n",
              " 'reset': 792,\n",
              " 'âm_lượng': 793,\n",
              " 'lổi': 794,\n",
              " 'ghi_âm': 795,\n",
              " 'thành': 796,\n",
              " 'apple': 797,\n",
              " 'quyết_định': 798,\n",
              " 'y': 799,\n",
              " 'anh_chị': 800,\n",
              " 'nhòe': 801,\n",
              " 'lý': 802,\n",
              " 'tư': 803,\n",
              " 'việt_nam': 804,\n",
              " 'hoàn_thiện': 805,\n",
              " 'lại': 806,\n",
              " 'thông_số': 807,\n",
              " 'hợp_lí': 808,\n",
              " 'đưa': 809,\n",
              " 's20': 810,\n",
              " 'kế': 811,\n",
              " 'trầy': 812,\n",
              " 'hộ': 813,\n",
              " 'thẻ_nhớ': 814,\n",
              " '60': 815,\n",
              " 'kép': 816,\n",
              " 'nhậy': 817,\n",
              " '45': 818,\n",
              " 'khuyến_mãi': 819,\n",
              " 'đổi_mới': 820,\n",
              " '80': 821,\n",
              " 'cạnh': 822,\n",
              " 'chi_tiết': 823,\n",
              " 'amoled': 824,\n",
              " 'phàn_nàn': 825,\n",
              " 'họ': 826,\n",
              " 'biến': 827,\n",
              " 'chân': 828,\n",
              " 'nhưg': 829,\n",
              " 'quốc': 830,\n",
              " 'duy_nhất': 831,\n",
              " 'tiện': 832,\n",
              " 'bị': 833,\n",
              " '99': 834,\n",
              " 'mh': 835,\n",
              " 'nge': 836,\n",
              " 'snapdragon': 837,\n",
              " 'lòng': 838,\n",
              " 'thời': 839,\n",
              " 'tết': 840,\n",
              " 'nhung': 841,\n",
              " '5tr': 842,\n",
              " 'ảnh_hưởng': 843,\n",
              " 'tấm': 844,\n",
              " 'giây': 845,\n",
              " 'suy_nghĩ': 846,\n",
              " 'nắm': 847,\n",
              " 'phụ_kiện': 848,\n",
              " 'thi_thoảng': 849,\n",
              " 'túi': 850,\n",
              " 'một_chút': 851,\n",
              " 'z': 852,\n",
              " '5s': 853,\n",
              " 'tăng': 854,\n",
              " 'nhạt': 855,\n",
              " 'ch': 856,\n",
              " 'va': 857,\n",
              " 'bữa': 858,\n",
              " 'tr': 859,\n",
              " 'mess': 860,\n",
              " 'nữ': 861,\n",
              " 'mẫu': 862,\n",
              " 'hệ_thống': 863,\n",
              " 'noi': 864,\n",
              " 'fix': 865,\n",
              " 'dự_phòng': 866,\n",
              " 'zoom': 867,\n",
              " 'liên': 868,\n",
              " 'ấn_tượng': 869,\n",
              " 'quen': 870,\n",
              " 'dính': 871,\n",
              " 'hy_vọng': 872,\n",
              " '34': 873,\n",
              " 'kể_cả': 874,\n",
              " 'dày': 875,\n",
              " 'khung': 876,\n",
              " 'trả_lời': 877,\n",
              " '4h': 878,\n",
              " 'vẻ': 879,\n",
              " 'messenger': 880,\n",
              " 'lạ': 881,\n",
              " 'quà': 882,\n",
              " 'androi': 883,\n",
              " 'nhờ': 884,\n",
              " 'lai': 885,\n",
              " 'mah': 886,\n",
              " 'khách': 887,\n",
              " 'ma': 888,\n",
              " 'thất': 889,\n",
              " 'bắt_đầu': 890,\n",
              " 'ngắt': 891,\n",
              " 'khiến': 892,\n",
              " 'cỡ': 893,\n",
              " 'not': 894,\n",
              " 'ns': 895,\n",
              " 'xứng': 896,\n",
              " 'đã': 897,\n",
              " 'mướt': 898,\n",
              " 'lúc': 899,\n",
              " 'câu': 900,\n",
              " 'trưa': 901,\n",
              " 'cung': 902,\n",
              " 'cái': 903,\n",
              " 'kết': 904,\n",
              " 'xuất_hiện': 905,\n",
              " 'khựng': 906,\n",
              " 'ơn': 907,\n",
              " 'đáng_giá': 908,\n",
              " 'tiết': 909,\n",
              " 'chăm_sóc': 910,\n",
              " 'thegioididong': 911,\n",
              " 'phải': 912,\n",
              " 'quả': 913,\n",
              " 'bắn': 914,\n",
              " 'bài': 915,\n",
              " 'rom': 916,\n",
              " 'suốt': 917,\n",
              " 'hướng_dẫn': 918,\n",
              " 'phần_cứng': 919,\n",
              " 'kĩ': 920,\n",
              " 'cân': 921,\n",
              " 'dây': 922,\n",
              " '98': 923,\n",
              " 'xoay': 924,\n",
              " 'a9': 925,\n",
              " 'liền': 926,\n",
              " 'vỏ': 927,\n",
              " 'đầy_đủ': 928,\n",
              " 'xinh': 929,\n",
              " 'tùy': 930,\n",
              " 'a10s': 931,\n",
              " 'của': 932,\n",
              " 'tên': 933,\n",
              " 'đỡ': 934,\n",
              " 'okpin': 935,\n",
              " 'ngủ': 936,\n",
              " 'mạnh_mẽ': 937,\n",
              " 'đeo': 938,\n",
              " 'mượn': 939,\n",
              " 'rõ_ràng': 940,\n",
              " 'ngoại_hình': 941,\n",
              " 'cận': 942,\n",
              " 'dám': 943,\n",
              " 'pupg': 944,\n",
              " '13': 945,\n",
              " 'vặt': 946,\n",
              " 'khen': 947,\n",
              " 'lượng': 948,\n",
              " 'bóng': 949,\n",
              " 'tin_tưởng': 950,\n",
              " 'gõ': 951,\n",
              " 'tùm_lum': 952,\n",
              " '7tr': 953,\n",
              " '128gb': 954,\n",
              " 'quan_trọng': 955,\n",
              " 'bắp': 956,\n",
              " 'ngồi': 957,\n",
              " 'nt': 958,\n",
              " 'dữ_liệu': 959,\n",
              " 'tự_dưng': 960,\n",
              " 'giải_quyết': 961,\n",
              " 'ta': 962,\n",
              " 'vos': 963,\n",
              " 'rồi': 964,\n",
              " 'mắc': 965,\n",
              " '6gb': 966,\n",
              " 'trãi': 967,\n",
              " 'giá_thành': 968,\n",
              " 'd': 969,\n",
              " '10tr': 970,\n",
              " 'tất': 971,\n",
              " 'hài': 972,\n",
              " 'play': 973,\n",
              " 'bao_nhiêu': 974,\n",
              " 'gây': 975,\n",
              " 'ghi': 976,\n",
              " 'đẹp_mắt': 977,\n",
              " 'lỡ': 978,\n",
              " 'cập': 979,\n",
              " 'prime': 980,\n",
              " '2f': 981,\n",
              " 'of': 982,\n",
              " 'ban_đêm': 983,\n",
              " 'vòng': 984,\n",
              " 'cám_ơn': 985,\n",
              " '8h': 986,\n",
              " 'bỏ_túi': 987,\n",
              " 'kỹ_thuật': 988,\n",
              " 'hi_vọng': 989,\n",
              " 'quản_lý': 990,\n",
              " 'gb': 991,\n",
              " '2tr': 992,\n",
              " 'đông': 993,\n",
              " 'quét': 994,\n",
              " 'vá': 995,\n",
              " 'đòi': 996,\n",
              " 'hướng': 997,\n",
              " 'châu': 998,\n",
              " '2020': 999,\n",
              " ...}"
            ]
          },
          "execution_count": 41,
          "metadata": {},
          "output_type": "execute_result"
        }
      ],
      "source": [
        "model_embedding.key_to_index"
      ]
    },
    {
      "cell_type": "markdown",
      "metadata": {},
      "source": [
        "> Check to see how many words the longest sentence has"
      ]
    },
    {
      "cell_type": "code",
      "execution_count": 42,
      "metadata": {},
      "outputs": [
        {
          "name": "stdout",
          "output_type": "stream",
          "text": [
            "129\n",
            "131\n"
          ]
        }
      ],
      "source": [
        "max_sequence = max([len(seq) for seq in X_train])\n",
        "max_sequence_t=max ([len(seq) for seq in X_test ])\n",
        "print(max_sequence)\n",
        "print(max_sequence_t)"
      ]
    },
    {
      "cell_type": "markdown",
      "metadata": {},
      "source": [
        "> representation for unknown words"
      ]
    },
    {
      "cell_type": "code",
      "execution_count": 43,
      "metadata": {},
      "outputs": [],
      "source": [
        "embedding_size = 128"
      ]
    },
    {
      "cell_type": "markdown",
      "metadata": {},
      "source": [
        "> convert words to vector space and padding"
      ]
    },
    {
      "cell_type": "code",
      "execution_count": 44,
      "metadata": {
        "id": "IQ2nqk0mG-PX"
      },
      "outputs": [],
      "source": [
        "def comment_embedding(comment):\n",
        "    matrix = np.zeros((131, embedding_size))\n",
        "    for i, word in enumerate(comment):\n",
        "            if word in model_embedding:\n",
        "                matrix[i] = model_embedding.get_vector(word)\n",
        "    return matrix"
      ]
    },
    {
      "cell_type": "markdown",
      "metadata": {},
      "source": [
        "> Execute Function"
      ]
    },
    {
      "cell_type": "code",
      "execution_count": 45,
      "metadata": {
        "colab": {
          "base_uri": "https://localhost:8080/"
        },
        "id": "iQMg25GTJS3m",
        "outputId": "1926c3a6-fc37-4dc1-97b3-044604276def"
      },
      "outputs": [
        {
          "name": "stderr",
          "output_type": "stream",
          "text": [
            "100%|██████████| 8898/8898 [00:00<00:00, 12333.87it/s]\n",
            "100%|██████████| 2224/2224 [00:00<00:00, 6436.36it/s]\n"
          ]
        }
      ],
      "source": [
        "train_data = []\n",
        "test_data =[]\n",
        "for x in tqdm(X_train):\n",
        "    train_data.append(comment_embedding(x))\n",
        "for y in tqdm(X_test): \n",
        "    test_data.append(comment_embedding(y))\n",
        "test_data=np.array(test_data)\n",
        "train_data=np.array(train_data)"
      ]
    },
    {
      "cell_type": "markdown",
      "metadata": {},
      "source": [
        "> Convert labels to numbers"
      ]
    },
    {
      "cell_type": "code",
      "execution_count": 46,
      "metadata": {},
      "outputs": [
        {
          "name": "stdout",
          "output_type": "stream",
          "text": [
            "[1 0 1]\n"
          ]
        }
      ],
      "source": [
        "label_encoder = LabelEncoder()\n",
        "# Mã hóa các nhãn văn bản thành các giá trị số\n",
        "y_train_encoded = label_encoder.fit_transform(y_train)\n",
        "y_test_encoded=label_encoder.fit_transform(y_test)\n",
        "print(y_train_encoded[0:3])"
      ]
    },
    {
      "cell_type": "markdown",
      "metadata": {},
      "source": [
        "> Convert label to one_hot_vector"
      ]
    },
    {
      "cell_type": "code",
      "execution_count": 47,
      "metadata": {},
      "outputs": [
        {
          "name": "stdout",
          "output_type": "stream",
          "text": [
            "[[0. 1. 0.]\n",
            " [1. 0. 0.]\n",
            " [0. 1. 0.]]\n"
          ]
        }
      ],
      "source": [
        "# Biểu diễn nhãn dưới dạng one-hot vector\n",
        "y_train_onehot = to_categorical(y_train_encoded)\n",
        "print(y_train_onehot[0:3])"
      ]
    },
    {
      "cell_type": "markdown",
      "metadata": {},
      "source": [
        "## 3.Built Model CNN"
      ]
    },
    {
      "cell_type": "markdown",
      "metadata": {},
      "source": [
        "### 3.1. Design configuration for CNN network"
      ]
    },
    {
      "cell_type": "code",
      "execution_count": 48,
      "metadata": {
        "id": "w33Kk46jJlJ5"
      },
      "outputs": [],
      "source": [
        "num_classes = 3\n",
        "filter_sizes = 3\n",
        "num_filters = 150\n",
        "epochs = 50\n",
        "dropout_rate = 0.3\n",
        "embedding_size=128"
      ]
    },
    {
      "cell_type": "markdown",
      "metadata": {},
      "source": [
        "> transform input properties"
      ]
    },
    {
      "cell_type": "code",
      "execution_count": 49,
      "metadata": {},
      "outputs": [],
      "source": [
        "x_train = train_data.reshape(train_data.shape[0], 131, embedding_size, 1).astype('float32')"
      ]
    },
    {
      "cell_type": "markdown",
      "metadata": {},
      "source": [
        "### 3.2. Model CNN"
      ]
    },
    {
      "cell_type": "code",
      "execution_count": 50,
      "metadata": {
        "colab": {
          "base_uri": "https://localhost:8080/"
        },
        "id": "UMrY5kBaypR4",
        "outputId": "5baf567d-6802-461b-e484-fe48d9eabff0"
      },
      "outputs": [
        {
          "name": "stderr",
          "output_type": "stream",
          "text": [
            "c:\\Users\\hdang\\.virtualenvs\\DM-xmUrTfoX\\Lib\\site-packages\\keras\\src\\layers\\convolutional\\base_conv.py:99: UserWarning: Do not pass an `input_shape`/`input_dim` argument to a layer. When using Sequential models, prefer using an `Input(shape)` object as the first layer in the model instead.\n",
            "  super().__init__(\n"
          ]
        }
      ],
      "source": [
        "# Define the model\n",
        "model = Sequential()\n",
        "# Add a convolutional layer\n",
        "model.add(Conv2D(num_filters, (filter_sizes, embedding_size), activation='relu',\n",
        "                 input_shape=(131, embedding_size, 1),name='convolution_layer'))\n",
        "model.add(MaxPooling2D(pool_size=(2, 1),strides=(2, 1),name='max_pooling'))\n",
        "model.add(Dropout(dropout_rate))\n",
        "model.add(Flatten())\n",
        "model.add(Dense(9, activation='relu',name='layer_dense_1'))\n",
        "model.add(Dense(9, activation='relu',name='layer_dense_2'))\n",
        "model.add(Dense(9, activation='relu',name='layer_dense_3'))\n",
        "model.add(Dense(9, activation='relu',name='layer_dense_4'))\n",
        "model.add(Dense(9, activation='relu',name='layer_dense_5'))\n",
        "model.add(Dense(9, activation='relu',name='layer_dense_6'))\n",
        "model.add(Dense(9, activation='relu',name='layer_dense_7'))\n",
        "model.add(Dense(9, activation='relu',name='layer_dense_8'))\n",
        "model.add(Dense(3, activation='softmax'))"
      ]
    },
    {
      "cell_type": "markdown",
      "metadata": {},
      "source": [
        "### 3.3. Hyperparameter"
      ]
    },
    {
      "cell_type": "code",
      "execution_count": 51,
      "metadata": {},
      "outputs": [],
      "source": [
        "model.compile(loss='categorical_crossentropy',\n",
        "              optimizer='adam',\n",
        "              metrics=['accuracy'])"
      ]
    },
    {
      "cell_type": "markdown",
      "metadata": {},
      "source": [
        "### 3.4. Train"
      ]
    },
    {
      "cell_type": "code",
      "execution_count": 52,
      "metadata": {
        "colab": {
          "base_uri": "https://localhost:8080/"
        },
        "id": "U1bK-7TFy-4t",
        "outputId": "d0e0aca6-b0af-4e73-af7c-88f8b8b5186a"
      },
      "outputs": [
        {
          "name": "stdout",
          "output_type": "stream",
          "text": [
            "Epoch 1/50\n",
            "\u001b[1m279/279\u001b[0m \u001b[32m━━━━━━━━━━━━━━━━━━━━\u001b[0m\u001b[37m\u001b[0m \u001b[1m8s\u001b[0m 11ms/step - accuracy: 0.6135 - loss: 0.8739\n",
            "Epoch 2/50\n",
            "\u001b[1m279/279\u001b[0m \u001b[32m━━━━━━━━━━━━━━━━━━━━\u001b[0m\u001b[37m\u001b[0m \u001b[1m4s\u001b[0m 12ms/step - accuracy: 0.7932 - loss: 0.5516\n",
            "Epoch 3/50\n",
            "\u001b[1m279/279\u001b[0m \u001b[32m━━━━━━━━━━━━━━━━━━━━\u001b[0m\u001b[37m\u001b[0m \u001b[1m3s\u001b[0m 11ms/step - accuracy: 0.8030 - loss: 0.5327\n",
            "Epoch 4/50\n",
            "\u001b[1m279/279\u001b[0m \u001b[32m━━━━━━━━━━━━━━━━━━━━\u001b[0m\u001b[37m\u001b[0m \u001b[1m3s\u001b[0m 12ms/step - accuracy: 0.8078 - loss: 0.5121\n",
            "Epoch 5/50\n",
            "\u001b[1m279/279\u001b[0m \u001b[32m━━━━━━━━━━━━━━━━━━━━\u001b[0m\u001b[37m\u001b[0m \u001b[1m3s\u001b[0m 11ms/step - accuracy: 0.8232 - loss: 0.4740\n",
            "Epoch 6/50\n",
            "\u001b[1m279/279\u001b[0m \u001b[32m━━━━━━━━━━━━━━━━━━━━\u001b[0m\u001b[37m\u001b[0m \u001b[1m3s\u001b[0m 11ms/step - accuracy: 0.8208 - loss: 0.4588\n",
            "Epoch 7/50\n",
            "\u001b[1m279/279\u001b[0m \u001b[32m━━━━━━━━━━━━━━━━━━━━\u001b[0m\u001b[37m\u001b[0m \u001b[1m3s\u001b[0m 11ms/step - accuracy: 0.8292 - loss: 0.4564\n",
            "Epoch 8/50\n",
            "\u001b[1m279/279\u001b[0m \u001b[32m━━━━━━━━━━━━━━━━━━━━\u001b[0m\u001b[37m\u001b[0m \u001b[1m3s\u001b[0m 11ms/step - accuracy: 0.8245 - loss: 0.4494\n",
            "Epoch 9/50\n",
            "\u001b[1m279/279\u001b[0m \u001b[32m━━━━━━━━━━━━━━━━━━━━\u001b[0m\u001b[37m\u001b[0m \u001b[1m3s\u001b[0m 11ms/step - accuracy: 0.8262 - loss: 0.4299\n",
            "Epoch 10/50\n",
            "\u001b[1m279/279\u001b[0m \u001b[32m━━━━━━━━━━━━━━━━━━━━\u001b[0m\u001b[37m\u001b[0m \u001b[1m3s\u001b[0m 11ms/step - accuracy: 0.8287 - loss: 0.4243\n",
            "Epoch 11/50\n",
            "\u001b[1m279/279\u001b[0m \u001b[32m━━━━━━━━━━━━━━━━━━━━\u001b[0m\u001b[37m\u001b[0m \u001b[1m3s\u001b[0m 11ms/step - accuracy: 0.8372 - loss: 0.4018\n",
            "Epoch 12/50\n",
            "\u001b[1m279/279\u001b[0m \u001b[32m━━━━━━━━━━━━━━━━━━━━\u001b[0m\u001b[37m\u001b[0m \u001b[1m3s\u001b[0m 12ms/step - accuracy: 0.8407 - loss: 0.3813\n",
            "Epoch 13/50\n",
            "\u001b[1m279/279\u001b[0m \u001b[32m━━━━━━━━━━━━━━━━━━━━\u001b[0m\u001b[37m\u001b[0m \u001b[1m3s\u001b[0m 10ms/step - accuracy: 0.8465 - loss: 0.3961\n",
            "Epoch 14/50\n",
            "\u001b[1m279/279\u001b[0m \u001b[32m━━━━━━━━━━━━━━━━━━━━\u001b[0m\u001b[37m\u001b[0m \u001b[1m3s\u001b[0m 9ms/step - accuracy: 0.8425 - loss: 0.3852\n",
            "Epoch 15/50\n",
            "\u001b[1m279/279\u001b[0m \u001b[32m━━━━━━━━━━━━━━━━━━━━\u001b[0m\u001b[37m\u001b[0m \u001b[1m2s\u001b[0m 9ms/step - accuracy: 0.8623 - loss: 0.3490\n",
            "Epoch 16/50\n",
            "\u001b[1m279/279\u001b[0m \u001b[32m━━━━━━━━━━━━━━━━━━━━\u001b[0m\u001b[37m\u001b[0m \u001b[1m3s\u001b[0m 9ms/step - accuracy: 0.8585 - loss: 0.3501\n",
            "Epoch 17/50\n",
            "\u001b[1m279/279\u001b[0m \u001b[32m━━━━━━━━━━━━━━━━━━━━\u001b[0m\u001b[37m\u001b[0m \u001b[1m3s\u001b[0m 9ms/step - accuracy: 0.8616 - loss: 0.3365\n",
            "Epoch 18/50\n",
            "\u001b[1m279/279\u001b[0m \u001b[32m━━━━━━━━━━━━━━━━━━━━\u001b[0m\u001b[37m\u001b[0m \u001b[1m2s\u001b[0m 9ms/step - accuracy: 0.8496 - loss: 0.3557\n",
            "Epoch 19/50\n",
            "\u001b[1m279/279\u001b[0m \u001b[32m━━━━━━━━━━━━━━━━━━━━\u001b[0m\u001b[37m\u001b[0m \u001b[1m2s\u001b[0m 9ms/step - accuracy: 0.8712 - loss: 0.3281\n",
            "Epoch 20/50\n",
            "\u001b[1m279/279\u001b[0m \u001b[32m━━━━━━━━━━━━━━━━━━━━\u001b[0m\u001b[37m\u001b[0m \u001b[1m3s\u001b[0m 9ms/step - accuracy: 0.8848 - loss: 0.3074\n",
            "Epoch 21/50\n",
            "\u001b[1m279/279\u001b[0m \u001b[32m━━━━━━━━━━━━━━━━━━━━\u001b[0m\u001b[37m\u001b[0m \u001b[1m3s\u001b[0m 9ms/step - accuracy: 0.8784 - loss: 0.3062\n",
            "Epoch 22/50\n",
            "\u001b[1m279/279\u001b[0m \u001b[32m━━━━━━━━━━━━━━━━━━━━\u001b[0m\u001b[37m\u001b[0m \u001b[1m3s\u001b[0m 9ms/step - accuracy: 0.8844 - loss: 0.3002\n",
            "Epoch 23/50\n",
            "\u001b[1m279/279\u001b[0m \u001b[32m━━━━━━━━━━━━━━━━━━━━\u001b[0m\u001b[37m\u001b[0m \u001b[1m3s\u001b[0m 9ms/step - accuracy: 0.8881 - loss: 0.2971\n",
            "Epoch 24/50\n",
            "\u001b[1m279/279\u001b[0m \u001b[32m━━━━━━━━━━━━━━━━━━━━\u001b[0m\u001b[37m\u001b[0m \u001b[1m3s\u001b[0m 9ms/step - accuracy: 0.8793 - loss: 0.3146\n",
            "Epoch 25/50\n",
            "\u001b[1m279/279\u001b[0m \u001b[32m━━━━━━━━━━━━━━━━━━━━\u001b[0m\u001b[37m\u001b[0m \u001b[1m3s\u001b[0m 9ms/step - accuracy: 0.8874 - loss: 0.2864\n",
            "Epoch 26/50\n",
            "\u001b[1m279/279\u001b[0m \u001b[32m━━━━━━━━━━━━━━━━━━━━\u001b[0m\u001b[37m\u001b[0m \u001b[1m3s\u001b[0m 9ms/step - accuracy: 0.8883 - loss: 0.2803\n",
            "Epoch 27/50\n",
            "\u001b[1m279/279\u001b[0m \u001b[32m━━━━━━━━━━━━━━━━━━━━\u001b[0m\u001b[37m\u001b[0m \u001b[1m3s\u001b[0m 9ms/step - accuracy: 0.8874 - loss: 0.2822\n",
            "Epoch 28/50\n",
            "\u001b[1m279/279\u001b[0m \u001b[32m━━━━━━━━━━━━━━━━━━━━\u001b[0m\u001b[37m\u001b[0m \u001b[1m3s\u001b[0m 9ms/step - accuracy: 0.8972 - loss: 0.2694\n",
            "Epoch 29/50\n",
            "\u001b[1m279/279\u001b[0m \u001b[32m━━━━━━━━━━━━━━━━━━━━\u001b[0m\u001b[37m\u001b[0m \u001b[1m3s\u001b[0m 9ms/step - accuracy: 0.8957 - loss: 0.2629\n",
            "Epoch 30/50\n",
            "\u001b[1m279/279\u001b[0m \u001b[32m━━━━━━━━━━━━━━━━━━━━\u001b[0m\u001b[37m\u001b[0m \u001b[1m3s\u001b[0m 9ms/step - accuracy: 0.9016 - loss: 0.2620\n",
            "Epoch 31/50\n",
            "\u001b[1m279/279\u001b[0m \u001b[32m━━━━━━━━━━━━━━━━━━━━\u001b[0m\u001b[37m\u001b[0m \u001b[1m2s\u001b[0m 9ms/step - accuracy: 0.8999 - loss: 0.2494\n",
            "Epoch 32/50\n",
            "\u001b[1m279/279\u001b[0m \u001b[32m━━━━━━━━━━━━━━━━━━━━\u001b[0m\u001b[37m\u001b[0m \u001b[1m3s\u001b[0m 9ms/step - accuracy: 0.9022 - loss: 0.2513\n",
            "Epoch 33/50\n",
            "\u001b[1m279/279\u001b[0m \u001b[32m━━━━━━━━━━━━━━━━━━━━\u001b[0m\u001b[37m\u001b[0m \u001b[1m3s\u001b[0m 9ms/step - accuracy: 0.9047 - loss: 0.2396\n",
            "Epoch 34/50\n",
            "\u001b[1m279/279\u001b[0m \u001b[32m━━━━━━━━━━━━━━━━━━━━\u001b[0m\u001b[37m\u001b[0m \u001b[1m3s\u001b[0m 9ms/step - accuracy: 0.9110 - loss: 0.2272\n",
            "Epoch 35/50\n",
            "\u001b[1m279/279\u001b[0m \u001b[32m━━━━━━━━━━━━━━━━━━━━\u001b[0m\u001b[37m\u001b[0m \u001b[1m3s\u001b[0m 9ms/step - accuracy: 0.8993 - loss: 0.2532\n",
            "Epoch 36/50\n",
            "\u001b[1m279/279\u001b[0m \u001b[32m━━━━━━━━━━━━━━━━━━━━\u001b[0m\u001b[37m\u001b[0m \u001b[1m3s\u001b[0m 9ms/step - accuracy: 0.9103 - loss: 0.2335\n",
            "Epoch 37/50\n",
            "\u001b[1m279/279\u001b[0m \u001b[32m━━━━━━━━━━━━━━━━━━━━\u001b[0m\u001b[37m\u001b[0m \u001b[1m3s\u001b[0m 10ms/step - accuracy: 0.9170 - loss: 0.2157\n",
            "Epoch 38/50\n",
            "\u001b[1m279/279\u001b[0m \u001b[32m━━━━━━━━━━━━━━━━━━━━\u001b[0m\u001b[37m\u001b[0m \u001b[1m3s\u001b[0m 10ms/step - accuracy: 0.9131 - loss: 0.2209\n",
            "Epoch 39/50\n",
            "\u001b[1m279/279\u001b[0m \u001b[32m━━━━━━━━━━━━━━━━━━━━\u001b[0m\u001b[37m\u001b[0m \u001b[1m3s\u001b[0m 10ms/step - accuracy: 0.9044 - loss: 0.2448\n",
            "Epoch 40/50\n",
            "\u001b[1m279/279\u001b[0m \u001b[32m━━━━━━━━━━━━━━━━━━━━\u001b[0m\u001b[37m\u001b[0m \u001b[1m2s\u001b[0m 9ms/step - accuracy: 0.9093 - loss: 0.2299\n",
            "Epoch 41/50\n",
            "\u001b[1m279/279\u001b[0m \u001b[32m━━━━━━━━━━━━━━━━━━━━\u001b[0m\u001b[37m\u001b[0m \u001b[1m3s\u001b[0m 9ms/step - accuracy: 0.9194 - loss: 0.2089\n",
            "Epoch 42/50\n",
            "\u001b[1m279/279\u001b[0m \u001b[32m━━━━━━━━━━━━━━━━━━━━\u001b[0m\u001b[37m\u001b[0m \u001b[1m2s\u001b[0m 9ms/step - accuracy: 0.9166 - loss: 0.2166\n",
            "Epoch 43/50\n",
            "\u001b[1m279/279\u001b[0m \u001b[32m━━━━━━━━━━━━━━━━━━━━\u001b[0m\u001b[37m\u001b[0m \u001b[1m3s\u001b[0m 9ms/step - accuracy: 0.9243 - loss: 0.2029\n",
            "Epoch 44/50\n",
            "\u001b[1m279/279\u001b[0m \u001b[32m━━━━━━━━━━━━━━━━━━━━\u001b[0m\u001b[37m\u001b[0m \u001b[1m2s\u001b[0m 9ms/step - accuracy: 0.9126 - loss: 0.2223\n",
            "Epoch 45/50\n",
            "\u001b[1m279/279\u001b[0m \u001b[32m━━━━━━━━━━━━━━━━━━━━\u001b[0m\u001b[37m\u001b[0m \u001b[1m2s\u001b[0m 9ms/step - accuracy: 0.9221 - loss: 0.2003\n",
            "Epoch 46/50\n",
            "\u001b[1m279/279\u001b[0m \u001b[32m━━━━━━━━━━━━━━━━━━━━\u001b[0m\u001b[37m\u001b[0m \u001b[1m3s\u001b[0m 9ms/step - accuracy: 0.9155 - loss: 0.2283\n",
            "Epoch 47/50\n",
            "\u001b[1m279/279\u001b[0m \u001b[32m━━━━━━━━━━━━━━━━━━━━\u001b[0m\u001b[37m\u001b[0m \u001b[1m3s\u001b[0m 9ms/step - accuracy: 0.9311 - loss: 0.1908\n",
            "Epoch 48/50\n",
            "\u001b[1m279/279\u001b[0m \u001b[32m━━━━━━━━━━━━━━━━━━━━\u001b[0m\u001b[37m\u001b[0m \u001b[1m3s\u001b[0m 9ms/step - accuracy: 0.9303 - loss: 0.1874\n",
            "Epoch 49/50\n",
            "\u001b[1m279/279\u001b[0m \u001b[32m━━━━━━━━━━━━━━━━━━━━\u001b[0m\u001b[37m\u001b[0m \u001b[1m3s\u001b[0m 9ms/step - accuracy: 0.9354 - loss: 0.1705\n",
            "Epoch 50/50\n",
            "\u001b[1m279/279\u001b[0m \u001b[32m━━━━━━━━━━━━━━━━━━━━\u001b[0m\u001b[37m\u001b[0m \u001b[1m3s\u001b[0m 9ms/step - accuracy: 0.9265 - loss: 0.1849\n"
          ]
        },
        {
          "data": {
            "text/plain": [
              "<keras.src.callbacks.history.History at 0x2090732e8d0>"
            ]
          },
          "execution_count": 52,
          "metadata": {},
          "output_type": "execute_result"
        }
      ],
      "source": [
        "model.fit(x_train ,y_train_onehot, verbose=1, epochs=epochs)"
      ]
    },
    {
      "cell_type": "markdown",
      "metadata": {},
      "source": [
        ">Network Architecture"
      ]
    },
    {
      "cell_type": "code",
      "execution_count": 53,
      "metadata": {},
      "outputs": [
        {
          "data": {
            "text/html": [
              "<pre style=\"white-space:pre;overflow-x:auto;line-height:normal;font-family:Menlo,'DejaVu Sans Mono',consolas,'Courier New',monospace\"><span style=\"font-weight: bold\">Model: \"sequential_1\"</span>\n",
              "</pre>\n"
            ],
            "text/plain": [
              "\u001b[1mModel: \"sequential_1\"\u001b[0m\n"
            ]
          },
          "metadata": {},
          "output_type": "display_data"
        },
        {
          "data": {
            "text/html": [
              "<pre style=\"white-space:pre;overflow-x:auto;line-height:normal;font-family:Menlo,'DejaVu Sans Mono',consolas,'Courier New',monospace\">┏━━━━━━━━━━━━━━━━━━━━━━━━━━━━━━━━━┳━━━━━━━━━━━━━━━━━━━━━━━━┳━━━━━━━━━━━━━━━┓\n",
              "┃<span style=\"font-weight: bold\"> Layer (type)                    </span>┃<span style=\"font-weight: bold\"> Output Shape           </span>┃<span style=\"font-weight: bold\">       Param # </span>┃\n",
              "┡━━━━━━━━━━━━━━━━━━━━━━━━━━━━━━━━━╇━━━━━━━━━━━━━━━━━━━━━━━━╇━━━━━━━━━━━━━━━┩\n",
              "│ convolution_layer (<span style=\"color: #0087ff; text-decoration-color: #0087ff\">Conv2D</span>)      │ (<span style=\"color: #00d7ff; text-decoration-color: #00d7ff\">None</span>, <span style=\"color: #00af00; text-decoration-color: #00af00\">129</span>, <span style=\"color: #00af00; text-decoration-color: #00af00\">1</span>, <span style=\"color: #00af00; text-decoration-color: #00af00\">150</span>)    │        <span style=\"color: #00af00; text-decoration-color: #00af00\">57,750</span> │\n",
              "├─────────────────────────────────┼────────────────────────┼───────────────┤\n",
              "│ max_pooling (<span style=\"color: #0087ff; text-decoration-color: #0087ff\">MaxPooling2D</span>)      │ (<span style=\"color: #00d7ff; text-decoration-color: #00d7ff\">None</span>, <span style=\"color: #00af00; text-decoration-color: #00af00\">64</span>, <span style=\"color: #00af00; text-decoration-color: #00af00\">1</span>, <span style=\"color: #00af00; text-decoration-color: #00af00\">150</span>)     │             <span style=\"color: #00af00; text-decoration-color: #00af00\">0</span> │\n",
              "├─────────────────────────────────┼────────────────────────┼───────────────┤\n",
              "│ dropout_1 (<span style=\"color: #0087ff; text-decoration-color: #0087ff\">Dropout</span>)             │ (<span style=\"color: #00d7ff; text-decoration-color: #00d7ff\">None</span>, <span style=\"color: #00af00; text-decoration-color: #00af00\">64</span>, <span style=\"color: #00af00; text-decoration-color: #00af00\">1</span>, <span style=\"color: #00af00; text-decoration-color: #00af00\">150</span>)     │             <span style=\"color: #00af00; text-decoration-color: #00af00\">0</span> │\n",
              "├─────────────────────────────────┼────────────────────────┼───────────────┤\n",
              "│ flatten_1 (<span style=\"color: #0087ff; text-decoration-color: #0087ff\">Flatten</span>)             │ (<span style=\"color: #00d7ff; text-decoration-color: #00d7ff\">None</span>, <span style=\"color: #00af00; text-decoration-color: #00af00\">9600</span>)           │             <span style=\"color: #00af00; text-decoration-color: #00af00\">0</span> │\n",
              "├─────────────────────────────────┼────────────────────────┼───────────────┤\n",
              "│ layer_dense_1 (<span style=\"color: #0087ff; text-decoration-color: #0087ff\">Dense</span>)           │ (<span style=\"color: #00d7ff; text-decoration-color: #00d7ff\">None</span>, <span style=\"color: #00af00; text-decoration-color: #00af00\">9</span>)              │        <span style=\"color: #00af00; text-decoration-color: #00af00\">86,409</span> │\n",
              "├─────────────────────────────────┼────────────────────────┼───────────────┤\n",
              "│ layer_dense_2 (<span style=\"color: #0087ff; text-decoration-color: #0087ff\">Dense</span>)           │ (<span style=\"color: #00d7ff; text-decoration-color: #00d7ff\">None</span>, <span style=\"color: #00af00; text-decoration-color: #00af00\">9</span>)              │            <span style=\"color: #00af00; text-decoration-color: #00af00\">90</span> │\n",
              "├─────────────────────────────────┼────────────────────────┼───────────────┤\n",
              "│ layer_dense_3 (<span style=\"color: #0087ff; text-decoration-color: #0087ff\">Dense</span>)           │ (<span style=\"color: #00d7ff; text-decoration-color: #00d7ff\">None</span>, <span style=\"color: #00af00; text-decoration-color: #00af00\">9</span>)              │            <span style=\"color: #00af00; text-decoration-color: #00af00\">90</span> │\n",
              "├─────────────────────────────────┼────────────────────────┼───────────────┤\n",
              "│ layer_dense_4 (<span style=\"color: #0087ff; text-decoration-color: #0087ff\">Dense</span>)           │ (<span style=\"color: #00d7ff; text-decoration-color: #00d7ff\">None</span>, <span style=\"color: #00af00; text-decoration-color: #00af00\">9</span>)              │            <span style=\"color: #00af00; text-decoration-color: #00af00\">90</span> │\n",
              "├─────────────────────────────────┼────────────────────────┼───────────────┤\n",
              "│ layer_dense_5 (<span style=\"color: #0087ff; text-decoration-color: #0087ff\">Dense</span>)           │ (<span style=\"color: #00d7ff; text-decoration-color: #00d7ff\">None</span>, <span style=\"color: #00af00; text-decoration-color: #00af00\">9</span>)              │            <span style=\"color: #00af00; text-decoration-color: #00af00\">90</span> │\n",
              "├─────────────────────────────────┼────────────────────────┼───────────────┤\n",
              "│ layer_dense_6 (<span style=\"color: #0087ff; text-decoration-color: #0087ff\">Dense</span>)           │ (<span style=\"color: #00d7ff; text-decoration-color: #00d7ff\">None</span>, <span style=\"color: #00af00; text-decoration-color: #00af00\">9</span>)              │            <span style=\"color: #00af00; text-decoration-color: #00af00\">90</span> │\n",
              "├─────────────────────────────────┼────────────────────────┼───────────────┤\n",
              "│ layer_dense_7 (<span style=\"color: #0087ff; text-decoration-color: #0087ff\">Dense</span>)           │ (<span style=\"color: #00d7ff; text-decoration-color: #00d7ff\">None</span>, <span style=\"color: #00af00; text-decoration-color: #00af00\">9</span>)              │            <span style=\"color: #00af00; text-decoration-color: #00af00\">90</span> │\n",
              "├─────────────────────────────────┼────────────────────────┼───────────────┤\n",
              "│ layer_dense_8 (<span style=\"color: #0087ff; text-decoration-color: #0087ff\">Dense</span>)           │ (<span style=\"color: #00d7ff; text-decoration-color: #00d7ff\">None</span>, <span style=\"color: #00af00; text-decoration-color: #00af00\">9</span>)              │            <span style=\"color: #00af00; text-decoration-color: #00af00\">90</span> │\n",
              "├─────────────────────────────────┼────────────────────────┼───────────────┤\n",
              "│ dense_1 (<span style=\"color: #0087ff; text-decoration-color: #0087ff\">Dense</span>)                 │ (<span style=\"color: #00d7ff; text-decoration-color: #00d7ff\">None</span>, <span style=\"color: #00af00; text-decoration-color: #00af00\">3</span>)              │            <span style=\"color: #00af00; text-decoration-color: #00af00\">30</span> │\n",
              "└─────────────────────────────────┴────────────────────────┴───────────────┘\n",
              "</pre>\n"
            ],
            "text/plain": [
              "┏━━━━━━━━━━━━━━━━━━━━━━━━━━━━━━━━━┳━━━━━━━━━━━━━━━━━━━━━━━━┳━━━━━━━━━━━━━━━┓\n",
              "┃\u001b[1m \u001b[0m\u001b[1mLayer (type)                   \u001b[0m\u001b[1m \u001b[0m┃\u001b[1m \u001b[0m\u001b[1mOutput Shape          \u001b[0m\u001b[1m \u001b[0m┃\u001b[1m \u001b[0m\u001b[1m      Param #\u001b[0m\u001b[1m \u001b[0m┃\n",
              "┡━━━━━━━━━━━━━━━━━━━━━━━━━━━━━━━━━╇━━━━━━━━━━━━━━━━━━━━━━━━╇━━━━━━━━━━━━━━━┩\n",
              "│ convolution_layer (\u001b[38;5;33mConv2D\u001b[0m)      │ (\u001b[38;5;45mNone\u001b[0m, \u001b[38;5;34m129\u001b[0m, \u001b[38;5;34m1\u001b[0m, \u001b[38;5;34m150\u001b[0m)    │        \u001b[38;5;34m57,750\u001b[0m │\n",
              "├─────────────────────────────────┼────────────────────────┼───────────────┤\n",
              "│ max_pooling (\u001b[38;5;33mMaxPooling2D\u001b[0m)      │ (\u001b[38;5;45mNone\u001b[0m, \u001b[38;5;34m64\u001b[0m, \u001b[38;5;34m1\u001b[0m, \u001b[38;5;34m150\u001b[0m)     │             \u001b[38;5;34m0\u001b[0m │\n",
              "├─────────────────────────────────┼────────────────────────┼───────────────┤\n",
              "│ dropout_1 (\u001b[38;5;33mDropout\u001b[0m)             │ (\u001b[38;5;45mNone\u001b[0m, \u001b[38;5;34m64\u001b[0m, \u001b[38;5;34m1\u001b[0m, \u001b[38;5;34m150\u001b[0m)     │             \u001b[38;5;34m0\u001b[0m │\n",
              "├─────────────────────────────────┼────────────────────────┼───────────────┤\n",
              "│ flatten_1 (\u001b[38;5;33mFlatten\u001b[0m)             │ (\u001b[38;5;45mNone\u001b[0m, \u001b[38;5;34m9600\u001b[0m)           │             \u001b[38;5;34m0\u001b[0m │\n",
              "├─────────────────────────────────┼────────────────────────┼───────────────┤\n",
              "│ layer_dense_1 (\u001b[38;5;33mDense\u001b[0m)           │ (\u001b[38;5;45mNone\u001b[0m, \u001b[38;5;34m9\u001b[0m)              │        \u001b[38;5;34m86,409\u001b[0m │\n",
              "├─────────────────────────────────┼────────────────────────┼───────────────┤\n",
              "│ layer_dense_2 (\u001b[38;5;33mDense\u001b[0m)           │ (\u001b[38;5;45mNone\u001b[0m, \u001b[38;5;34m9\u001b[0m)              │            \u001b[38;5;34m90\u001b[0m │\n",
              "├─────────────────────────────────┼────────────────────────┼───────────────┤\n",
              "│ layer_dense_3 (\u001b[38;5;33mDense\u001b[0m)           │ (\u001b[38;5;45mNone\u001b[0m, \u001b[38;5;34m9\u001b[0m)              │            \u001b[38;5;34m90\u001b[0m │\n",
              "├─────────────────────────────────┼────────────────────────┼───────────────┤\n",
              "│ layer_dense_4 (\u001b[38;5;33mDense\u001b[0m)           │ (\u001b[38;5;45mNone\u001b[0m, \u001b[38;5;34m9\u001b[0m)              │            \u001b[38;5;34m90\u001b[0m │\n",
              "├─────────────────────────────────┼────────────────────────┼───────────────┤\n",
              "│ layer_dense_5 (\u001b[38;5;33mDense\u001b[0m)           │ (\u001b[38;5;45mNone\u001b[0m, \u001b[38;5;34m9\u001b[0m)              │            \u001b[38;5;34m90\u001b[0m │\n",
              "├─────────────────────────────────┼────────────────────────┼───────────────┤\n",
              "│ layer_dense_6 (\u001b[38;5;33mDense\u001b[0m)           │ (\u001b[38;5;45mNone\u001b[0m, \u001b[38;5;34m9\u001b[0m)              │            \u001b[38;5;34m90\u001b[0m │\n",
              "├─────────────────────────────────┼────────────────────────┼───────────────┤\n",
              "│ layer_dense_7 (\u001b[38;5;33mDense\u001b[0m)           │ (\u001b[38;5;45mNone\u001b[0m, \u001b[38;5;34m9\u001b[0m)              │            \u001b[38;5;34m90\u001b[0m │\n",
              "├─────────────────────────────────┼────────────────────────┼───────────────┤\n",
              "│ layer_dense_8 (\u001b[38;5;33mDense\u001b[0m)           │ (\u001b[38;5;45mNone\u001b[0m, \u001b[38;5;34m9\u001b[0m)              │            \u001b[38;5;34m90\u001b[0m │\n",
              "├─────────────────────────────────┼────────────────────────┼───────────────┤\n",
              "│ dense_1 (\u001b[38;5;33mDense\u001b[0m)                 │ (\u001b[38;5;45mNone\u001b[0m, \u001b[38;5;34m3\u001b[0m)              │            \u001b[38;5;34m30\u001b[0m │\n",
              "└─────────────────────────────────┴────────────────────────┴───────────────┘\n"
            ]
          },
          "metadata": {},
          "output_type": "display_data"
        },
        {
          "data": {
            "text/html": [
              "<pre style=\"white-space:pre;overflow-x:auto;line-height:normal;font-family:Menlo,'DejaVu Sans Mono',consolas,'Courier New',monospace\"><span style=\"font-weight: bold\"> Total params: </span><span style=\"color: #00af00; text-decoration-color: #00af00\">434,459</span> (1.66 MB)\n",
              "</pre>\n"
            ],
            "text/plain": [
              "\u001b[1m Total params: \u001b[0m\u001b[38;5;34m434,459\u001b[0m (1.66 MB)\n"
            ]
          },
          "metadata": {},
          "output_type": "display_data"
        },
        {
          "data": {
            "text/html": [
              "<pre style=\"white-space:pre;overflow-x:auto;line-height:normal;font-family:Menlo,'DejaVu Sans Mono',consolas,'Courier New',monospace\"><span style=\"font-weight: bold\"> Trainable params: </span><span style=\"color: #00af00; text-decoration-color: #00af00\">144,819</span> (565.70 KB)\n",
              "</pre>\n"
            ],
            "text/plain": [
              "\u001b[1m Trainable params: \u001b[0m\u001b[38;5;34m144,819\u001b[0m (565.70 KB)\n"
            ]
          },
          "metadata": {},
          "output_type": "display_data"
        },
        {
          "data": {
            "text/html": [
              "<pre style=\"white-space:pre;overflow-x:auto;line-height:normal;font-family:Menlo,'DejaVu Sans Mono',consolas,'Courier New',monospace\"><span style=\"font-weight: bold\"> Non-trainable params: </span><span style=\"color: #00af00; text-decoration-color: #00af00\">0</span> (0.00 B)\n",
              "</pre>\n"
            ],
            "text/plain": [
              "\u001b[1m Non-trainable params: \u001b[0m\u001b[38;5;34m0\u001b[0m (0.00 B)\n"
            ]
          },
          "metadata": {},
          "output_type": "display_data"
        },
        {
          "data": {
            "text/html": [
              "<pre style=\"white-space:pre;overflow-x:auto;line-height:normal;font-family:Menlo,'DejaVu Sans Mono',consolas,'Courier New',monospace\"><span style=\"font-weight: bold\"> Optimizer params: </span><span style=\"color: #00af00; text-decoration-color: #00af00\">289,640</span> (1.10 MB)\n",
              "</pre>\n"
            ],
            "text/plain": [
              "\u001b[1m Optimizer params: \u001b[0m\u001b[38;5;34m289,640\u001b[0m (1.10 MB)\n"
            ]
          },
          "metadata": {},
          "output_type": "display_data"
        },
        {
          "name": "stdout",
          "output_type": "stream",
          "text": [
            "None\n"
          ]
        }
      ],
      "source": [
        "print(model.summary())"
      ]
    },
    {
      "cell_type": "markdown",
      "metadata": {},
      "source": [
        "> Network Architecture Diagram"
      ]
    },
    {
      "cell_type": "code",
      "execution_count": 54,
      "metadata": {},
      "outputs": [
        {
          "data": {
            "image/png": "[encoded data removed]",
            "text/plain": [
              "<IPython.core.display.Image object>"
            ]
          },
          "execution_count": 54,
          "metadata": {},
          "output_type": "execute_result"
        }
      ],
      "source": [
        "plot_model(model, to_file='../Picture_Model/model_CNN_sentiment_plot.png', show_shapes=True, show_layer_names=True)"
      ]
    },
    {
      "cell_type": "markdown",
      "metadata": {},
      "source": [
        "> Dump file model_cnn_sentiment.h5"
      ]
    },
    {
      "cell_type": "code",
      "execution_count": 55,
      "metadata": {
        "id": "x0OBJ7E5zh6K"
      },
      "outputs": [
        {
          "name": "stderr",
          "output_type": "stream",
          "text": [
            "WARNING:absl:You are saving your model as an HDF5 file via `model.save()` or `keras.saving.save_model(model)`. This file format is considered legacy. We recommend using instead the native Keras format, e.g. `model.save('my_model.keras')` or `keras.saving.save_model(model, 'my_model.keras')`. \n"
          ]
        }
      ],
      "source": [
        "model.save('../model/model_cnn_sentiment.h5')"
      ]
    },
    {
      "cell_type": "markdown",
      "metadata": {},
      "source": [
        "### 3.5 Evaluation test dataset"
      ]
    },
    {
      "cell_type": "markdown",
      "metadata": {},
      "source": [
        "> Load file models_sentiment.h5"
      ]
    },
    {
      "cell_type": "code",
      "execution_count": 56,
      "metadata": {},
      "outputs": [
        {
          "name": "stderr",
          "output_type": "stream",
          "text": [
            "WARNING:absl:Compiled the loaded model, but the compiled metrics have yet to be built. `model.compile_metrics` will be empty until you train or evaluate the model.\n"
          ]
        }
      ],
      "source": [
        "model_sentiment=load_model(\"../model/model_cnn_sentiment.h5\")"
      ]
    },
    {
      "cell_type": "markdown",
      "metadata": {},
      "source": [
        "> predict  test dataset "
      ]
    },
    {
      "cell_type": "code",
      "execution_count": 57,
      "metadata": {},
      "outputs": [
        {
          "name": "stdout",
          "output_type": "stream",
          "text": [
            "\u001b[1m70/70\u001b[0m \u001b[32m━━━━━━━━━━━━━━━━━━━━\u001b[0m\u001b[37m\u001b[0m \u001b[1m0s\u001b[0m 4ms/step\n"
          ]
        }
      ],
      "source": [
        "result = model_sentiment.predict(test_data)"
      ]
    },
    {
      "cell_type": "markdown",
      "metadata": {},
      "source": [
        "> First 10 lines of comments"
      ]
    },
    {
      "cell_type": "code",
      "execution_count": 58,
      "metadata": {},
      "outputs": [
        {
          "name": "stdout",
          "output_type": "stream",
          "text": [
            "[2 1 2 0 2 0 2 2 2 2]\n",
            "['Positive' 'Neutral' 'Positive' 'Negative' 'Positive' 'Negative'\n",
            " 'Positive' 'Positive' 'Positive' 'Positive']\n"
          ]
        }
      ],
      "source": [
        "predict_labels = np.argmax(result,axis=1)\n",
        "print(predict_labels[0:10])\n",
        "# Decode the predicted labels\n",
        "predicted_labels_decoded = label_encoder.inverse_transform(predict_labels)\n",
        "print(predicted_labels_decoded[0:10])\n"
      ]
    },
    {
      "cell_type": "markdown",
      "metadata": {},
      "source": [
        "> Predict one a new sample"
      ]
    },
    {
      "cell_type": "code",
      "execution_count": 59,
      "metadata": {},
      "outputs": [
        {
          "name": "stdout",
          "output_type": "stream",
          "text": [
            "['tôi mới mua iphone 15 pro max pin trâu màn_hình đẹp dễ sử_dụng']\n",
            "\u001b[1m1/1\u001b[0m \u001b[32m━━━━━━━━━━━━━━━━━━━━\u001b[0m\u001b[37m\u001b[0m \u001b[1m0s\u001b[0m 29ms/step\n",
            "['Positive']\n"
          ]
        }
      ],
      "source": [
        "comment = \"Tôi mới mua iphone 15 pro max pin trâu màn hình đẹp dễ sử dụng\"\n",
        "comment = remove_pucntuation(comment.lower())\n",
        "comment = remove_stopword(comment)\n",
        "comment = [ViTokenizer.tokenize(comment)]\n",
        "print(comment)\n",
        "separatemeaningfulwords = wordseparation(comment)\n",
        "maxtrix_embedding =np.expand_dims(comment_embedding(separatemeaningfulwords[0]),axis=0)\n",
        "result_one = model_sentiment.predict(maxtrix_embedding)\n",
        "result_one = np.argmax(result_one,axis=1)\n",
        "# Decode the predicted labels\n",
        "print(label_encoder.inverse_transform(result_one))\n"
      ]
    },
    {
      "cell_type": "markdown",
      "metadata": {},
      "source": [
        "> Evaluate the model through Accuracy measures,Precision,Recall,F1-score,"
      ]
    },
    {
      "cell_type": "code",
      "execution_count": 60,
      "metadata": {},
      "outputs": [
        {
          "name": "stdout",
          "output_type": "stream",
          "text": [
            "Accuracy: 0.8094\n",
            "Precision: 0.8057\n",
            "Recall: 0.8094\n",
            "F1-score: 0.8073555055849971\n"
          ]
        }
      ],
      "source": [
        "accuracy = accuracy_score(y_test_encoded, predict_labels)\n",
        "print(f'Accuracy: {accuracy:.4f}')\n",
        "\n",
        "precision = precision_score(y_test_encoded, predict_labels, average='weighted')\n",
        "print(f\"Precision: {precision:.4f}\")\n",
        "\n",
        "recall = recall_score(y_test_encoded, predict_labels, average='weighted')\n",
        "print(f\"Recall: {recall:.4f}\")\n",
        "\n",
        "f1score = f1_score(y_test_encoded, predict_labels, average='weighted')\n",
        "print(f\"F1-score: {f1score}\")"
      ]
    }
  ],
  "metadata": {
    "accelerator": "GPU",
    "colab": {
      "gpuType": "T4",
      "provenance": []
    },
    "kernelspec": {
      "display_name": "Python 3",
      "name": "python3"
    },
    "language_info": {
      "codemirror_mode": {
        "name": "ipython",
        "version": 3
      },
      "file_extension": ".py",
      "mimetype": "text/x-python",
      "name": "python",
      "nbconvert_exporter": "python",
      "pygments_lexer": "ipython3",
      "version": "3.11.5"
    }
  },
  "nbformat": 4,
  "nbformat_minor": 0
}
